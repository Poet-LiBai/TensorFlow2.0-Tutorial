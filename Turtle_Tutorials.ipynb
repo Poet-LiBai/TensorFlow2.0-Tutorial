{
 "cells": [
  {
   "cell_type": "code",
   "execution_count": 1,
   "metadata": {},
   "outputs": [],
   "source": [
    "from pyray.shapes.cube import *\n",
    "cube_with_cuttingplanes(7,popup=True)"
   ]
  },
  {
   "cell_type": "code",
   "execution_count": 8,
   "metadata": {},
   "outputs": [],
   "source": [
    "from pyray.shapes.sphere import *\n",
    "draw_wavy_sphere_wrapper('.\\\\im',66,1)"
   ]
  },
  {
   "cell_type": "code",
   "execution_count": null,
   "metadata": {},
   "outputs": [],
   "source": [
    "import turtle\n",
    "t = turtle.Pen()\n",
    "turtle.bgcolor(\"black\")\n",
    "sides=6\n",
    "colors=[\"red\",\"yellow\",\"green\",\"blue\",\"orange\",\"purple\"]\n",
    "for x in range(360):\n",
    "    t.pencolor(colors[x%sides])\n",
    "    t.forward(x*3/sides+x)\n",
    "    t.left(360/sides+1)\n",
    "    t.width(x*sides/200)\n",
    "\n",
    "print(\"####结束####\")"
   ]
  },
  {
   "cell_type": "code",
   "execution_count": 7,
   "metadata": {},
   "outputs": [],
   "source": [
    "from turtle import *\n",
    "from random import *\n",
    "\n",
    "\n",
    "def ground():\n",
    "    hideturtle()\n",
    "    speed(100)\n",
    "    for i in range(400):\n",
    "        pensize(randint(5, 10))\n",
    "        x = randint(-400, 350)\n",
    "        y = randint(-280, -1)\n",
    "        r = -y / 280\n",
    "        g = -y / 280\n",
    "        b = -y / 280\n",
    "        pencolor(r, g, b)\n",
    "        penup()\n",
    "        goto(x, y)\n",
    "        pendown()\n",
    "        forward(randint(40, 100))\n",
    "\n",
    "\n",
    "def snow():\n",
    "    hideturtle()\n",
    "    speed(100)\n",
    "    pensize(2)\n",
    "    for i in range(100):\n",
    "        r = random()\n",
    "        g = random()\n",
    "        b = random()\n",
    "        pencolor(r, g, b)\n",
    "        penup()\n",
    "        setx(randint(-350, 350))\n",
    "        sety(randint(1, 270))\n",
    "        pendown()\n",
    "        dens = randint(8, 12)\n",
    "        snowsize = randint(10, 14)\n",
    "        for j in range(dens):\n",
    "            forward(snowsize)\n",
    "            backward(snowsize)\n",
    "            right(360 / dens)\n",
    "\n",
    "\n",
    "def main():\n",
    "    setup(800, 600, 0, 0)\n",
    "    tracer(False)\n",
    "    bgcolor(\"black\")\n",
    "    snow()\n",
    "    ground()\n",
    "    tracer(True)\n",
    "    mainloop()\n",
    "\n",
    "\n",
    "main()"
   ]
  },
  {
   "cell_type": "code",
   "execution_count": null,
   "metadata": {},
   "outputs": [],
   "source": []
  }
 ],
 "metadata": {
  "kernelspec": {
   "display_name": "Python 3",
   "language": "python",
   "name": "python3"
  },
  "language_info": {
   "codemirror_mode": {
    "name": "ipython",
    "version": 3
   },
   "file_extension": ".py",
   "mimetype": "text/x-python",
   "name": "python",
   "nbconvert_exporter": "python",
   "pygments_lexer": "ipython3",
   "version": "3.7.4"
  }
 },
 "nbformat": 4,
 "nbformat_minor": 2
}
