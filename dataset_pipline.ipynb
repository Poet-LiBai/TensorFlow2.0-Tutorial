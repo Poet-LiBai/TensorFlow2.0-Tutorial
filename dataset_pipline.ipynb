{
 "cells": [
  {
   "cell_type": "code",
   "execution_count": null,
   "metadata": {},
   "outputs": [],
   "source": [
    "from jupyterthemes import jtplot\n",
    "jtplot.style()"
   ]
  },
  {
   "cell_type": "markdown",
   "metadata": {},
   "source": []
  },
  {
   "cell_type": "code",
   "execution_count": 3,
   "metadata": {
    "code_folding": [],
    "lang": "zh-cn"
   },
   "outputs": [
    {
     "data": {
      "image/png": "[encoded data removed]",
      "text/plain": [
       "<Figure size 432x288 with 1 Axes>"
      ]
     },
     "metadata": {},
     "output_type": "display_data"
    }
   ],
   "source": [
    "import os \n",
    "from PIL import Image \n",
    "import cv2\n",
    "import matplotlib.pyplot as plt\n",
    "import numpy as np\n",
    "import tensorflow as tf\n",
    "import tensorflow as tf\n",
    "import numpy as np\n",
    "import pandas as pd \n",
    "\n",
    "\n",
    "path = 'F:/AI-dataset/GTSRB/GTSRB_Final_Training_Images/GTSRB/Final_Training/Images/00000/'\n",
    "ppm_list = os.listdir(path)\n",
    "for index in np.random.randint(0,len(ppm_list),10):\n",
    "    ppm_file = os.path.join(path, ppm_list[index])\n",
    "    ppm = Image.open(ppm_file)\n",
    "    plt.title(str(ppm.size[0])+','+ str(ppm.size[1]))\n",
    "    plt.imshow(ppm)\n",
    "    plt.show()"
   ]
  },
  {
   "cell_type": "markdown",
   "metadata": {
    "lang": "fr"
   },
   "source": [
    "importateur le système d'exploitation\n",
    "à partir de l'image d'importation PIL\n",
    "importateur cv2\n",
    "importateur matplotlib.pyplot comme plt\n",
    "importateur numpy comme np\n",
    "importateur tensorflow en tant que tf\n",
    "\n",
    "path = 'F: / AI-dataset / GTSRB / GTSRB _Final_ Training _Images / GTSRB / Final_ Training / Images / 00000 /'\n",
    "ppm _list = os.listdir (chemin)\n",
    "pour l'index dans np.random.randint (0, len (ppm_ list), 10):\n",
    "    ppm _fichier = os.path.join (chemin, ppm_ liste [index])\n",
    "    ppm = Image.open (ppm_file)\n",
    "    plt.title (str (ppm.size [0]) + ',' + str (ppm.size [1]))\n",
    "    plt.imshow (ppm)\n",
    "    plt.show ()"
   ]
  },
  {
   "cell_type": "code",
   "execution_count": 10,
   "metadata": {},
   "outputs": [
    {
     "name": "stdout",
     "output_type": "stream",
     "text": [
      "F:\\AI-dataset\\GTSRB\\GTSRB_Final_Training_Images\\Images\\00000\\00000_00001.ppm 0\n"
     ]
    }
   ],
   "source": [
    "import csv\n",
    "import os\n",
    "from PIL import Image\n",
    "\n",
    "def GTSRB():\n",
    "\n",
    "        train_images = []       # images\n",
    "        train_labels = []       # corresponding labels\n",
    "        train_path_list = []\n",
    "        test_images= []         # test_\n",
    "        test_labels = []\n",
    "        test_path_list = []\n",
    "\n",
    "\n",
    "        # get train_data\n",
    "        jpg_path = 'F:\\\\AI-dataset\\\\GTSRB\\\\GTSRB_Final_Training_Images\\JPG'\n",
    "        train_base_path = 'F:\\\\AI-dataset\\\\GTSRB\\\\GTSRB_Final_Training_Images\\Images'\n",
    "        for c in range(0, 43):\n",
    "            prefix = train_base_path + '\\\\' + format(c, '05d') + '\\\\'  # subdirectory for class\n",
    "            jpg_prefix = jpg_path + '\\\\' + format(c, '05d') + '\\\\'\n",
    "            if not os.path.exists(jpg_prefix):\n",
    "                os.makedirs(jpg_prefix)\n",
    "            jpg_csv = open(jpg_prefix + 'GT-' + format(c, '05d') + '.csv', 'w')\n",
    "            with open(prefix + 'GT-' + format(c, '05d') + '.csv') as train_csv:     #train annotations file\n",
    "                train_csv_reader = csv.reader(train_csv, delimiter=';')  # csv parser for annotations file\n",
    "                next(train_csv_reader)  # skip header\n",
    "                # loop over all images in current annotations file\n",
    "                for row in train_csv_reader:\n",
    "                    tr_image_name_origin = row[0]\n",
    "                    jpg_image_name = row[0].replace('.ppm', '.jpg')\n",
    "                    tr_image_path = os.path.join(prefix, tr_image_name_origin)\n",
    "                    jpg_image_path = os.path.join(jpg_prefix, jpg_image_name)\n",
    "                    image = Image.open(tr_image_path)\n",
    "                    image.save(jpg_image_path)\n",
    "                    row[0] = jpg_image_name\n",
    "                    list_to_str = ';'.join(row)\n",
    "                    jpg_csv.write(list_to_str + '\\n')\n",
    "                    train_path_list.append(tr_image_path)\n",
    "                    #train_images.append(plt.imread(tr_image_path) )# 这个是直接读取图片文件，而不是路径the 1th column is the filename\n",
    "                    train_labels.append(int(row[7]))     # the 8th column is the label\n",
    "\n",
    "#         test_base_path = 'F:\\\\AI-dataset\\\\GTSRB\\\\GTSRB_Final_Test_Images\\\\Images'\n",
    "#         test_jpg_path = 'F:\\\\AI-dataset\\\\GTSRB\\\\GTSRB_Final_Test_Images\\\\JPG'\n",
    "#         jpg_csv = open('F:\\\\AI-dataset\\\\GTSRB\\\\GTSRB_Final_Test_Images\\\\JPG\\\\GT_jpg.csv','w')\n",
    "#         with open('F:\\\\AI-dataset\\\\GTSRB\\\\GTSRB_Final_Test_Images\\\\Images\\\\GT-final_test.csv') as test_csv:\n",
    "            \n",
    "#             test_csv_reader = csv.reader(test_csv, delimiter=';')\n",
    "#             next(test_csv_reader)\n",
    "#             for row in test_csv_reader:\n",
    "#                 te_image_name_origin = row[0]\n",
    "#                 jpg_image_name = row[0].replace('.ppm','.jpg')\n",
    "#                 te_image_path = os.path.join(test_base_path, te_image_name_origin)\n",
    "#                 jpg_save_path = os.path.join(test_jpg_path, jpg_image_name)\n",
    "#                 test_path_list.append(te_image_path)\n",
    "#                 #test_images.append(plt.imread(te_image_path))\n",
    "#                 image = Image.open(te_image_path)\n",
    "#                 jpg_save = image.save(jpg_save_path)\n",
    "#                 row[0] = jpg_image_name\n",
    "#                 list_to_str = ';'.join(row)\n",
    "#                 jpg_csv.write(list_to_str + '\\n')\n",
    "#                 test_labels.append(int(row[7]))\n",
    "\n",
    "        return train_path_list,train_labels\n",
    "\n",
    "x_train,y_train = GTSRB()\n",
    "print(x_train[1], y_train[1])"
   ]
  },
  {
   "cell_type": "code",
   "execution_count": 11,
   "metadata": {},
   "outputs": [],
   "source": [
    "from jupyterthemes import jtplot\n",
    "jtplot.style()"
   ]
  },
  {
   "cell_type": "code",
   "execution_count": 16,
   "metadata": {},
   "outputs": [
    {
     "name": "stdout",
     "output_type": "stream",
     "text": [
      "[[ 0  1  2  3  4  5  6  7  8  9 10 11 12]\n",
      " [ 0  1  2  3  4  5  6  7  8  9 10 11 12]\n",
      " [ 0  1  2  3  4  5  6  7  8  9 10 11 12]\n",
      " [ 0  1  2  3  4  5  6  7  8  9 10 11 12]\n",
      " [ 0  1  2  3  4  5  6  7  8  9 10 11 12]]\n",
      "[[10.  10.  10.  10.  10.  10.  10.  10.  10.  10.  10.  10.  10. ]\n",
      " [12.5 12.5 12.5 12.5 12.5 12.5 12.5 12.5 12.5 12.5 12.5 12.5 12.5]\n",
      " [15.  15.  15.  15.  15.  15.  15.  15.  15.  15.  15.  15.  15. ]\n",
      " [17.5 17.5 17.5 17.5 17.5 17.5 17.5 17.5 17.5 17.5 17.5 17.5 17.5]\n",
      " [20.  20.  20.  20.  20.  20.  20.  20.  20.  20.  20.  20.  20. ]]\n"
     ]
    },
    {
     "data": {
      "image/png": "[encoded data removed]",
      "text/plain": [
       "<Figure size 460.8x403.2 with 1 Axes>"
      ]
     },
     "metadata": {},
     "output_type": "display_data"
    }
   ],
   "source": [
    "import numpy as np\n",
    "import matplotlib.pyplot as plt\n",
    "\n",
    "# import torch\n",
    "grid_size = 13\n",
    "grid1 = np.arange(grid_size)\n",
    "grid2 = np.linspace(10,20,5)\n",
    "a,b = np.meshgrid(grid, grid2)\n",
    "print(a)\n",
    "print(b)\n",
    "plt.plot(a,b,\n",
    "         color='limegreen',  # 设置颜色为limegreen\n",
    "         marker='.',  # 设置点类型为圆点\n",
    "         linestyle='')  # 设置线型为空，也即没有线连接点\n",
    "plt.grid(True)\n",
    "plt.show()"
   ]
  },
  {
   "cell_type": "code",
   "execution_count": null,
   "metadata": {},
   "outputs": [],
   "source": []
  }
 ],
 "metadata": {
  "hide_input": false,
  "kernelspec": {
   "display_name": "Python 3",
   "language": "python",
   "name": "python3"
  },
  "language_info": {
   "codemirror_mode": {
    "name": "ipython",
    "version": 3
   },
   "file_extension": ".py",
   "mimetype": "text/x-python",
   "name": "python",
   "nbconvert_exporter": "python",
   "pygments_lexer": "ipython3",
   "version": "3.7.7"
  },
  "nbTranslate": {
   "displayLangs": [
    "zh-cn"
   ],
   "hotkey": "alt-t",
   "langInMainMenu": true,
   "sourceLang": "en",
   "targetLang": "zh-cn",
   "useGoogleTranslate": true
  },
  "toc": {
   "base_numbering": 1,
   "nav_menu": {
    "height": "75px",
    "width": "182px"
   },
   "number_sections": true,
   "sideBar": true,
   "skip_h1_title": false,
   "title_cell": "Table of Contents",
   "title_sidebar": "Contents",
   "toc_cell": false,
   "toc_position": {},
   "toc_section_display": true,
   "toc_window_display": false
  },
  "varInspector": {
   "cols": {
    "lenName": 16,
    "lenType": 16,
    "lenVar": 40
   },
   "kernels_config": {
    "python": {
     "delete_cmd_postfix": "",
     "delete_cmd_prefix": "del ",
     "library": "var_list.py",
     "varRefreshCmd": "print(var_dic_list())"
    },
    "r": {
     "delete_cmd_postfix": ") ",
     "delete_cmd_prefix": "rm(",
     "library": "var_list.r",
     "varRefreshCmd": "cat(var_dic_list()) "
    }
   },
   "position": {
    "height": "241.4px",
    "left": "1166px",
    "right": "20px",
    "top": "120px",
    "width": "350px"
   },
   "types_to_exclude": [
    "module",
    "function",
    "builtin_function_or_method",
    "instance",
    "_Feature"
   ],
   "window_display": false
  }
 },
 "nbformat": 4,
 "nbformat_minor": 4
}
